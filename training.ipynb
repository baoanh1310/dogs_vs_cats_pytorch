{
  "nbformat": 4,
  "nbformat_minor": 0,
  "metadata": {
    "colab": {
      "name": "training.ipynb",
      "provenance": []
    },
    "kernelspec": {
      "name": "python3",
      "display_name": "Python 3"
    },
    "accelerator": "GPU"
  },
  "cells": [
    {
      "cell_type": "code",
      "metadata": {
        "id": "DBuuvCfafRQM",
        "colab_type": "code",
        "colab": {
          "base_uri": "https://localhost:8080/",
          "height": 55
        },
        "outputId": "648cb0dc-09c5-4873-e97c-19af7a598c83"
      },
      "source": [
        "from google.colab import drive\n",
        "drive.mount('/content/drive')"
      ],
      "execution_count": 1,
      "outputs": [
        {
          "output_type": "stream",
          "text": [
            "Drive already mounted at /content/drive; to attempt to forcibly remount, call drive.mount(\"/content/drive\", force_remount=True).\n"
          ],
          "name": "stdout"
        }
      ]
    },
    {
      "cell_type": "code",
      "metadata": {
        "id": "w8zJZhUjgOLH",
        "colab_type": "code",
        "colab": {
          "base_uri": "https://localhost:8080/",
          "height": 35
        },
        "outputId": "71b56024-f93e-4f85-9b34-772d05e971b4"
      },
      "source": [
        "cd /content/drive/My Drive/dog_cat_pytorch"
      ],
      "execution_count": 2,
      "outputs": [
        {
          "output_type": "stream",
          "text": [
            "/content/drive/My Drive/dog_cat_pytorch\n"
          ],
          "name": "stdout"
        }
      ]
    },
    {
      "cell_type": "code",
      "metadata": {
        "id": "OJgsIae_goLb",
        "colab_type": "code",
        "colab": {}
      },
      "source": [
        "from lib import *\n",
        "from config import *\n",
        "from model import build_model\n",
        "from utils import train_model"
      ],
      "execution_count": 0,
      "outputs": []
    },
    {
      "cell_type": "code",
      "metadata": {
        "id": "Thv64Zgygy_6",
        "colab_type": "code",
        "colab": {
          "base_uri": "https://localhost:8080/",
          "height": 179
        },
        "outputId": "1c695d75-a05e-45a2-f71a-5d122ef14de4"
      },
      "source": [
        "net, dataloader_dict, criterior, optimizer = build_model()"
      ],
      "execution_count": 4,
      "outputs": [
        {
          "output_type": "stream",
          "text": [
            "Net(\n",
            "  (conv1): Conv2d(3, 32, kernel_size=(3, 3), stride=(1, 1))\n",
            "  (conv2): Conv2d(32, 64, kernel_size=(3, 3), stride=(1, 1))\n",
            "  (conv3): Conv2d(64, 128, kernel_size=(3, 3), stride=(1, 1))\n",
            "  (conv4): Conv2d(128, 128, kernel_size=(3, 3), stride=(1, 1))\n",
            "  (dropout): Dropout(p=0.5, inplace=False)\n",
            "  (fc1): Linear(in_features=6272, out_features=512, bias=True)\n",
            "  (fc2): Linear(in_features=512, out_features=2, bias=True)\n",
            ")\n"
          ],
          "name": "stdout"
        }
      ]
    },
    {
      "cell_type": "code",
      "metadata": {
        "id": "maOH1-_1ktxw",
        "colab_type": "code",
        "colab": {
          "base_uri": "https://localhost:8080/",
          "height": 1000
        },
        "outputId": "154bb820-7fda-40fd-f0e4-986701a3d1f7"
      },
      "source": [
        "train_model(net, dataloader_dict, criterior, optimizer, NUM_EPOCHS)"
      ],
      "execution_count": 6,
      "outputs": [
        {
          "output_type": "stream",
          "text": [
            "device: cuda:0\n"
          ],
          "name": "stdout"
        },
        {
          "output_type": "stream",
          "text": [
            "\r  0%|          | 0/50 [00:00<?, ?it/s]"
          ],
          "name": "stderr"
        },
        {
          "output_type": "stream",
          "text": [
            "Epoch 1/100\n"
          ],
          "name": "stdout"
        },
        {
          "output_type": "stream",
          "text": [
            "/content/drive/My Drive/dog_cat_pytorch/model.py:38: UserWarning: Implicit dimension choice for softmax has been deprecated. Change the call to include dim=X as an argument.\n",
            "  x = F.softmax(self.fc2(x))\n",
            "100%|██████████| 50/50 [00:05<00:00,  9.48it/s]\n",
            "  0%|          | 0/100 [00:00<?, ?it/s]"
          ],
          "name": "stderr"
        },
        {
          "output_type": "stream",
          "text": [
            "val Loss: 0.6932, Acc: 0.5000\n",
            "Epoch 2/100\n"
          ],
          "name": "stdout"
        },
        {
          "output_type": "stream",
          "text": [
            "100%|██████████| 100/100 [05:37<00:00,  3.37s/it]\n",
            "  2%|▏         | 1/50 [00:00<00:05,  9.71it/s]"
          ],
          "name": "stderr"
        },
        {
          "output_type": "stream",
          "text": [
            "train Loss: 0.6956, Acc: 0.5010\n"
          ],
          "name": "stdout"
        },
        {
          "output_type": "stream",
          "text": [
            "100%|██████████| 50/50 [00:05<00:00,  9.86it/s]\n",
            "  1%|          | 1/100 [00:00<00:12,  8.00it/s]"
          ],
          "name": "stderr"
        },
        {
          "output_type": "stream",
          "text": [
            "val Loss: 0.6927, Acc: 0.5000\n",
            "Epoch 3/100\n"
          ],
          "name": "stdout"
        },
        {
          "output_type": "stream",
          "text": [
            "100%|██████████| 100/100 [00:12<00:00,  7.95it/s]\n",
            "  2%|▏         | 1/50 [00:00<00:05,  9.54it/s]"
          ],
          "name": "stderr"
        },
        {
          "output_type": "stream",
          "text": [
            "train Loss: 0.6921, Acc: 0.5155\n"
          ],
          "name": "stdout"
        },
        {
          "output_type": "stream",
          "text": [
            "100%|██████████| 50/50 [00:05<00:00,  9.63it/s]\n",
            "  1%|          | 1/100 [00:00<00:12,  7.82it/s]"
          ],
          "name": "stderr"
        },
        {
          "output_type": "stream",
          "text": [
            "val Loss: 0.6859, Acc: 0.5220\n",
            "Epoch 4/100\n"
          ],
          "name": "stdout"
        },
        {
          "output_type": "stream",
          "text": [
            "100%|██████████| 100/100 [00:12<00:00,  8.06it/s]\n",
            "  0%|          | 0/50 [00:00<?, ?it/s]"
          ],
          "name": "stderr"
        },
        {
          "output_type": "stream",
          "text": [
            "train Loss: 0.6852, Acc: 0.5570\n"
          ],
          "name": "stdout"
        },
        {
          "output_type": "stream",
          "text": [
            "100%|██████████| 50/50 [00:05<00:00,  9.84it/s]\n",
            "  1%|          | 1/100 [00:00<00:14,  7.01it/s]"
          ],
          "name": "stderr"
        },
        {
          "output_type": "stream",
          "text": [
            "val Loss: 0.6806, Acc: 0.5220\n",
            "Epoch 5/100\n"
          ],
          "name": "stdout"
        },
        {
          "output_type": "stream",
          "text": [
            "100%|██████████| 100/100 [00:12<00:00,  8.00it/s]\n",
            "  2%|▏         | 1/50 [00:00<00:05,  9.78it/s]"
          ],
          "name": "stderr"
        },
        {
          "output_type": "stream",
          "text": [
            "train Loss: 0.6741, Acc: 0.5860\n"
          ],
          "name": "stdout"
        },
        {
          "output_type": "stream",
          "text": [
            "100%|██████████| 50/50 [00:05<00:00,  9.82it/s]\n",
            "  1%|          | 1/100 [00:00<00:12,  8.25it/s]"
          ],
          "name": "stderr"
        },
        {
          "output_type": "stream",
          "text": [
            "val Loss: 0.6476, Acc: 0.6690\n",
            "Epoch 6/100\n"
          ],
          "name": "stdout"
        },
        {
          "output_type": "stream",
          "text": [
            "100%|██████████| 100/100 [00:12<00:00,  7.99it/s]\n",
            "  2%|▏         | 1/50 [00:00<00:06,  8.14it/s]"
          ],
          "name": "stderr"
        },
        {
          "output_type": "stream",
          "text": [
            "train Loss: 0.6593, Acc: 0.6155\n"
          ],
          "name": "stdout"
        },
        {
          "output_type": "stream",
          "text": [
            "100%|██████████| 50/50 [00:05<00:00,  9.65it/s]\n",
            "  1%|          | 1/100 [00:00<00:12,  7.98it/s]"
          ],
          "name": "stderr"
        },
        {
          "output_type": "stream",
          "text": [
            "val Loss: 0.6543, Acc: 0.6090\n",
            "Epoch 7/100\n"
          ],
          "name": "stdout"
        },
        {
          "output_type": "stream",
          "text": [
            "100%|██████████| 100/100 [00:12<00:00,  8.00it/s]\n",
            "  2%|▏         | 1/50 [00:00<00:05,  9.67it/s]"
          ],
          "name": "stderr"
        },
        {
          "output_type": "stream",
          "text": [
            "train Loss: 0.6565, Acc: 0.6115\n"
          ],
          "name": "stdout"
        },
        {
          "output_type": "stream",
          "text": [
            "100%|██████████| 50/50 [00:05<00:00,  9.66it/s]\n",
            "  1%|          | 1/100 [00:00<00:11,  8.49it/s]"
          ],
          "name": "stderr"
        },
        {
          "output_type": "stream",
          "text": [
            "val Loss: 0.6309, Acc: 0.6750\n",
            "Epoch 8/100\n"
          ],
          "name": "stdout"
        },
        {
          "output_type": "stream",
          "text": [
            "100%|██████████| 100/100 [00:12<00:00,  7.91it/s]\n",
            "  2%|▏         | 1/50 [00:00<00:05,  9.56it/s]"
          ],
          "name": "stderr"
        },
        {
          "output_type": "stream",
          "text": [
            "train Loss: 0.6419, Acc: 0.6400\n"
          ],
          "name": "stdout"
        },
        {
          "output_type": "stream",
          "text": [
            "100%|██████████| 50/50 [00:05<00:00,  9.89it/s]\n",
            "  1%|          | 1/100 [00:00<00:12,  7.84it/s]"
          ],
          "name": "stderr"
        },
        {
          "output_type": "stream",
          "text": [
            "val Loss: 0.6517, Acc: 0.6060\n",
            "Epoch 9/100\n"
          ],
          "name": "stdout"
        },
        {
          "output_type": "stream",
          "text": [
            "100%|██████████| 100/100 [00:12<00:00,  7.80it/s]\n",
            "  2%|▏         | 1/50 [00:00<00:04,  9.89it/s]"
          ],
          "name": "stderr"
        },
        {
          "output_type": "stream",
          "text": [
            "train Loss: 0.6363, Acc: 0.6395\n"
          ],
          "name": "stdout"
        },
        {
          "output_type": "stream",
          "text": [
            "100%|██████████| 50/50 [00:05<00:00,  9.76it/s]\n",
            "  1%|          | 1/100 [00:00<00:12,  7.83it/s]"
          ],
          "name": "stderr"
        },
        {
          "output_type": "stream",
          "text": [
            "val Loss: 0.6138, Acc: 0.6800\n",
            "Epoch 10/100\n"
          ],
          "name": "stdout"
        },
        {
          "output_type": "stream",
          "text": [
            "100%|██████████| 100/100 [00:12<00:00,  8.00it/s]\n",
            "  2%|▏         | 1/50 [00:00<00:04,  9.91it/s]"
          ],
          "name": "stderr"
        },
        {
          "output_type": "stream",
          "text": [
            "train Loss: 0.6291, Acc: 0.6665\n"
          ],
          "name": "stdout"
        },
        {
          "output_type": "stream",
          "text": [
            "100%|██████████| 50/50 [00:05<00:00,  9.87it/s]\n",
            "  1%|          | 1/100 [00:00<00:12,  8.01it/s]"
          ],
          "name": "stderr"
        },
        {
          "output_type": "stream",
          "text": [
            "val Loss: 0.6117, Acc: 0.6770\n",
            "Epoch 11/100\n"
          ],
          "name": "stdout"
        },
        {
          "output_type": "stream",
          "text": [
            "100%|██████████| 100/100 [00:12<00:00,  8.02it/s]\n",
            "  4%|▍         | 2/50 [00:00<00:04, 10.26it/s]"
          ],
          "name": "stderr"
        },
        {
          "output_type": "stream",
          "text": [
            "train Loss: 0.6263, Acc: 0.6630\n"
          ],
          "name": "stdout"
        },
        {
          "output_type": "stream",
          "text": [
            "100%|██████████| 50/50 [00:05<00:00,  9.88it/s]\n",
            "  1%|          | 1/100 [00:00<00:11,  8.35it/s]"
          ],
          "name": "stderr"
        },
        {
          "output_type": "stream",
          "text": [
            "val Loss: 0.6083, Acc: 0.6810\n",
            "Epoch 12/100\n"
          ],
          "name": "stdout"
        },
        {
          "output_type": "stream",
          "text": [
            "100%|██████████| 100/100 [00:12<00:00,  7.92it/s]\n",
            "  2%|▏         | 1/50 [00:00<00:05,  9.48it/s]"
          ],
          "name": "stderr"
        },
        {
          "output_type": "stream",
          "text": [
            "train Loss: 0.6223, Acc: 0.6665\n"
          ],
          "name": "stdout"
        },
        {
          "output_type": "stream",
          "text": [
            "100%|██████████| 50/50 [00:05<00:00,  9.59it/s]\n",
            "  1%|          | 1/100 [00:00<00:11,  8.41it/s]"
          ],
          "name": "stderr"
        },
        {
          "output_type": "stream",
          "text": [
            "val Loss: 0.6403, Acc: 0.6400\n",
            "Epoch 13/100\n"
          ],
          "name": "stdout"
        },
        {
          "output_type": "stream",
          "text": [
            "100%|██████████| 100/100 [00:12<00:00,  8.02it/s]\n",
            "  2%|▏         | 1/50 [00:00<00:04,  9.86it/s]"
          ],
          "name": "stderr"
        },
        {
          "output_type": "stream",
          "text": [
            "train Loss: 0.6055, Acc: 0.6850\n"
          ],
          "name": "stdout"
        },
        {
          "output_type": "stream",
          "text": [
            "100%|██████████| 50/50 [00:05<00:00,  9.70it/s]\n",
            "  1%|          | 1/100 [00:00<00:12,  7.75it/s]"
          ],
          "name": "stderr"
        },
        {
          "output_type": "stream",
          "text": [
            "val Loss: 0.6106, Acc: 0.6730\n",
            "Epoch 14/100\n"
          ],
          "name": "stdout"
        },
        {
          "output_type": "stream",
          "text": [
            "100%|██████████| 100/100 [00:12<00:00,  8.02it/s]\n",
            "  2%|▏         | 1/50 [00:00<00:04,  9.93it/s]"
          ],
          "name": "stderr"
        },
        {
          "output_type": "stream",
          "text": [
            "train Loss: 0.6126, Acc: 0.6770\n"
          ],
          "name": "stdout"
        },
        {
          "output_type": "stream",
          "text": [
            "100%|██████████| 50/50 [00:05<00:00,  9.84it/s]\n",
            "  1%|          | 1/100 [00:00<00:11,  8.31it/s]"
          ],
          "name": "stderr"
        },
        {
          "output_type": "stream",
          "text": [
            "val Loss: 0.6389, Acc: 0.6410\n",
            "Epoch 15/100\n"
          ],
          "name": "stdout"
        },
        {
          "output_type": "stream",
          "text": [
            "100%|██████████| 100/100 [00:12<00:00,  8.00it/s]\n",
            "  2%|▏         | 1/50 [00:00<00:05,  9.79it/s]"
          ],
          "name": "stderr"
        },
        {
          "output_type": "stream",
          "text": [
            "train Loss: 0.6053, Acc: 0.6785\n"
          ],
          "name": "stdout"
        },
        {
          "output_type": "stream",
          "text": [
            "100%|██████████| 50/50 [00:05<00:00,  9.83it/s]\n",
            "  1%|          | 1/100 [00:00<00:12,  8.03it/s]"
          ],
          "name": "stderr"
        },
        {
          "output_type": "stream",
          "text": [
            "val Loss: 0.6169, Acc: 0.6700\n",
            "Epoch 16/100\n"
          ],
          "name": "stdout"
        },
        {
          "output_type": "stream",
          "text": [
            "100%|██████████| 100/100 [00:12<00:00,  7.72it/s]\n",
            "  2%|▏         | 1/50 [00:00<00:05,  8.56it/s]"
          ],
          "name": "stderr"
        },
        {
          "output_type": "stream",
          "text": [
            "train Loss: 0.6032, Acc: 0.6820\n"
          ],
          "name": "stdout"
        },
        {
          "output_type": "stream",
          "text": [
            "100%|██████████| 50/50 [00:05<00:00,  8.92it/s]\n",
            "  1%|          | 1/100 [00:00<00:11,  8.31it/s]"
          ],
          "name": "stderr"
        },
        {
          "output_type": "stream",
          "text": [
            "val Loss: 0.6030, Acc: 0.6930\n",
            "Epoch 17/100\n"
          ],
          "name": "stdout"
        },
        {
          "output_type": "stream",
          "text": [
            "100%|██████████| 100/100 [00:12<00:00,  7.90it/s]\n",
            "  2%|▏         | 1/50 [00:00<00:05,  8.22it/s]"
          ],
          "name": "stderr"
        },
        {
          "output_type": "stream",
          "text": [
            "train Loss: 0.5953, Acc: 0.6960\n"
          ],
          "name": "stdout"
        },
        {
          "output_type": "stream",
          "text": [
            "100%|██████████| 50/50 [00:05<00:00,  9.63it/s]\n",
            "  1%|          | 1/100 [00:00<00:12,  8.22it/s]"
          ],
          "name": "stderr"
        },
        {
          "output_type": "stream",
          "text": [
            "val Loss: 0.5943, Acc: 0.6960\n",
            "Epoch 18/100\n"
          ],
          "name": "stdout"
        },
        {
          "output_type": "stream",
          "text": [
            "100%|██████████| 100/100 [00:12<00:00,  7.96it/s]\n",
            "  2%|▏         | 1/50 [00:00<00:04,  9.82it/s]"
          ],
          "name": "stderr"
        },
        {
          "output_type": "stream",
          "text": [
            "train Loss: 0.5976, Acc: 0.6915\n"
          ],
          "name": "stdout"
        },
        {
          "output_type": "stream",
          "text": [
            "100%|██████████| 50/50 [00:05<00:00,  9.78it/s]\n",
            "  1%|          | 1/100 [00:00<00:12,  8.08it/s]"
          ],
          "name": "stderr"
        },
        {
          "output_type": "stream",
          "text": [
            "val Loss: 0.5908, Acc: 0.7020\n",
            "Epoch 19/100\n"
          ],
          "name": "stdout"
        },
        {
          "output_type": "stream",
          "text": [
            "100%|██████████| 100/100 [00:12<00:00,  7.96it/s]\n",
            "  2%|▏         | 1/50 [00:00<00:05,  8.72it/s]"
          ],
          "name": "stderr"
        },
        {
          "output_type": "stream",
          "text": [
            "train Loss: 0.5944, Acc: 0.7060\n"
          ],
          "name": "stdout"
        },
        {
          "output_type": "stream",
          "text": [
            "100%|██████████| 50/50 [00:05<00:00,  9.74it/s]\n",
            "  1%|          | 1/100 [00:00<00:12,  8.23it/s]"
          ],
          "name": "stderr"
        },
        {
          "output_type": "stream",
          "text": [
            "val Loss: 0.5988, Acc: 0.6920\n",
            "Epoch 20/100\n"
          ],
          "name": "stdout"
        },
        {
          "output_type": "stream",
          "text": [
            "100%|██████████| 100/100 [00:12<00:00,  8.02it/s]\n",
            "  2%|▏         | 1/50 [00:00<00:04,  9.99it/s]"
          ],
          "name": "stderr"
        },
        {
          "output_type": "stream",
          "text": [
            "train Loss: 0.5835, Acc: 0.7060\n"
          ],
          "name": "stdout"
        },
        {
          "output_type": "stream",
          "text": [
            "100%|██████████| 50/50 [00:05<00:00,  9.71it/s]\n",
            "  1%|          | 1/100 [00:00<00:12,  7.69it/s]"
          ],
          "name": "stderr"
        },
        {
          "output_type": "stream",
          "text": [
            "val Loss: 0.5913, Acc: 0.7040\n",
            "Epoch 21/100\n"
          ],
          "name": "stdout"
        },
        {
          "output_type": "stream",
          "text": [
            "100%|██████████| 100/100 [00:12<00:00,  7.94it/s]\n",
            "  2%|▏         | 1/50 [00:00<00:05,  8.72it/s]"
          ],
          "name": "stderr"
        },
        {
          "output_type": "stream",
          "text": [
            "train Loss: 0.5873, Acc: 0.7085\n"
          ],
          "name": "stdout"
        },
        {
          "output_type": "stream",
          "text": [
            "100%|██████████| 50/50 [00:05<00:00,  9.47it/s]\n",
            "  1%|          | 1/100 [00:00<00:12,  8.00it/s]"
          ],
          "name": "stderr"
        },
        {
          "output_type": "stream",
          "text": [
            "val Loss: 0.5760, Acc: 0.7210\n",
            "Epoch 22/100\n"
          ],
          "name": "stdout"
        },
        {
          "output_type": "stream",
          "text": [
            "100%|██████████| 100/100 [00:12<00:00,  7.95it/s]\n",
            "  2%|▏         | 1/50 [00:00<00:04,  9.89it/s]"
          ],
          "name": "stderr"
        },
        {
          "output_type": "stream",
          "text": [
            "train Loss: 0.5850, Acc: 0.7055\n"
          ],
          "name": "stdout"
        },
        {
          "output_type": "stream",
          "text": [
            "100%|██████████| 50/50 [00:05<00:00,  9.61it/s]\n",
            "  1%|          | 1/100 [00:00<00:12,  8.05it/s]"
          ],
          "name": "stderr"
        },
        {
          "output_type": "stream",
          "text": [
            "val Loss: 0.5871, Acc: 0.7050\n",
            "Epoch 23/100\n"
          ],
          "name": "stdout"
        },
        {
          "output_type": "stream",
          "text": [
            "100%|██████████| 100/100 [00:12<00:00,  7.95it/s]\n",
            "  2%|▏         | 1/50 [00:00<00:05,  9.43it/s]"
          ],
          "name": "stderr"
        },
        {
          "output_type": "stream",
          "text": [
            "train Loss: 0.5823, Acc: 0.7115\n"
          ],
          "name": "stdout"
        },
        {
          "output_type": "stream",
          "text": [
            "100%|██████████| 50/50 [00:05<00:00,  9.62it/s]\n",
            "  1%|          | 1/100 [00:00<00:11,  8.36it/s]"
          ],
          "name": "stderr"
        },
        {
          "output_type": "stream",
          "text": [
            "val Loss: 0.5773, Acc: 0.7110\n",
            "Epoch 24/100\n"
          ],
          "name": "stdout"
        },
        {
          "output_type": "stream",
          "text": [
            "100%|██████████| 100/100 [00:12<00:00,  8.01it/s]\n",
            "  2%|▏         | 1/50 [00:00<00:05,  9.61it/s]"
          ],
          "name": "stderr"
        },
        {
          "output_type": "stream",
          "text": [
            "train Loss: 0.5773, Acc: 0.7185\n"
          ],
          "name": "stdout"
        },
        {
          "output_type": "stream",
          "text": [
            "100%|██████████| 50/50 [00:05<00:00,  9.91it/s]\n",
            "  1%|          | 1/100 [00:00<00:12,  7.76it/s]"
          ],
          "name": "stderr"
        },
        {
          "output_type": "stream",
          "text": [
            "val Loss: 0.6025, Acc: 0.6920\n",
            "Epoch 25/100\n"
          ],
          "name": "stdout"
        },
        {
          "output_type": "stream",
          "text": [
            "100%|██████████| 100/100 [00:12<00:00,  7.99it/s]\n",
            "  2%|▏         | 1/50 [00:00<00:05,  9.18it/s]"
          ],
          "name": "stderr"
        },
        {
          "output_type": "stream",
          "text": [
            "train Loss: 0.5878, Acc: 0.7090\n"
          ],
          "name": "stdout"
        },
        {
          "output_type": "stream",
          "text": [
            "100%|██████████| 50/50 [00:05<00:00,  9.77it/s]\n",
            "  1%|          | 1/100 [00:00<00:12,  8.20it/s]"
          ],
          "name": "stderr"
        },
        {
          "output_type": "stream",
          "text": [
            "val Loss: 0.5706, Acc: 0.7230\n",
            "Epoch 26/100\n"
          ],
          "name": "stdout"
        },
        {
          "output_type": "stream",
          "text": [
            "100%|██████████| 100/100 [00:12<00:00,  7.71it/s]\n",
            "  2%|▏         | 1/50 [00:00<00:05,  9.41it/s]"
          ],
          "name": "stderr"
        },
        {
          "output_type": "stream",
          "text": [
            "train Loss: 0.5845, Acc: 0.7075\n"
          ],
          "name": "stdout"
        },
        {
          "output_type": "stream",
          "text": [
            "100%|██████████| 50/50 [00:05<00:00,  9.73it/s]\n",
            "  1%|          | 1/100 [00:00<00:13,  7.38it/s]"
          ],
          "name": "stderr"
        },
        {
          "output_type": "stream",
          "text": [
            "val Loss: 0.5723, Acc: 0.7170\n",
            "Epoch 27/100\n"
          ],
          "name": "stdout"
        },
        {
          "output_type": "stream",
          "text": [
            "100%|██████████| 100/100 [00:12<00:00,  7.91it/s]\n",
            "  2%|▏         | 1/50 [00:00<00:05,  9.61it/s]"
          ],
          "name": "stderr"
        },
        {
          "output_type": "stream",
          "text": [
            "train Loss: 0.5789, Acc: 0.7115\n"
          ],
          "name": "stdout"
        },
        {
          "output_type": "stream",
          "text": [
            "100%|██████████| 50/50 [00:05<00:00,  9.83it/s]\n",
            "  1%|          | 1/100 [00:00<00:12,  7.96it/s]"
          ],
          "name": "stderr"
        },
        {
          "output_type": "stream",
          "text": [
            "val Loss: 0.5760, Acc: 0.7160\n",
            "Epoch 28/100\n"
          ],
          "name": "stdout"
        },
        {
          "output_type": "stream",
          "text": [
            "100%|██████████| 100/100 [00:12<00:00,  7.97it/s]\n",
            "  2%|▏         | 1/50 [00:00<00:05,  9.39it/s]"
          ],
          "name": "stderr"
        },
        {
          "output_type": "stream",
          "text": [
            "train Loss: 0.5732, Acc: 0.7240\n"
          ],
          "name": "stdout"
        },
        {
          "output_type": "stream",
          "text": [
            "100%|██████████| 50/50 [00:05<00:00,  9.66it/s]\n",
            "  1%|          | 1/100 [00:00<00:12,  8.23it/s]"
          ],
          "name": "stderr"
        },
        {
          "output_type": "stream",
          "text": [
            "val Loss: 0.5802, Acc: 0.7050\n",
            "Epoch 29/100\n"
          ],
          "name": "stdout"
        },
        {
          "output_type": "stream",
          "text": [
            "100%|██████████| 100/100 [00:12<00:00,  7.96it/s]\n",
            "  2%|▏         | 1/50 [00:00<00:05,  9.42it/s]"
          ],
          "name": "stderr"
        },
        {
          "output_type": "stream",
          "text": [
            "train Loss: 0.5737, Acc: 0.7250\n"
          ],
          "name": "stdout"
        },
        {
          "output_type": "stream",
          "text": [
            "100%|██████████| 50/50 [00:05<00:00,  9.74it/s]\n",
            "  1%|          | 1/100 [00:00<00:13,  7.37it/s]"
          ],
          "name": "stderr"
        },
        {
          "output_type": "stream",
          "text": [
            "val Loss: 0.5723, Acc: 0.7190\n",
            "Epoch 30/100\n"
          ],
          "name": "stdout"
        },
        {
          "output_type": "stream",
          "text": [
            "100%|██████████| 100/100 [00:12<00:00,  7.85it/s]\n",
            "  2%|▏         | 1/50 [00:00<00:05,  9.24it/s]"
          ],
          "name": "stderr"
        },
        {
          "output_type": "stream",
          "text": [
            "train Loss: 0.5790, Acc: 0.7180\n"
          ],
          "name": "stdout"
        },
        {
          "output_type": "stream",
          "text": [
            "100%|██████████| 50/50 [00:05<00:00,  9.48it/s]\n",
            "  1%|          | 1/100 [00:00<00:13,  7.39it/s]"
          ],
          "name": "stderr"
        },
        {
          "output_type": "stream",
          "text": [
            "val Loss: 0.5679, Acc: 0.7270\n",
            "Epoch 31/100\n"
          ],
          "name": "stdout"
        },
        {
          "output_type": "stream",
          "text": [
            "100%|██████████| 100/100 [00:12<00:00,  7.93it/s]\n",
            "  2%|▏         | 1/50 [00:00<00:04,  9.86it/s]"
          ],
          "name": "stderr"
        },
        {
          "output_type": "stream",
          "text": [
            "train Loss: 0.5734, Acc: 0.7240\n"
          ],
          "name": "stdout"
        },
        {
          "output_type": "stream",
          "text": [
            "100%|██████████| 50/50 [00:05<00:00,  9.78it/s]\n",
            "  1%|          | 1/100 [00:00<00:12,  7.99it/s]"
          ],
          "name": "stderr"
        },
        {
          "output_type": "stream",
          "text": [
            "val Loss: 0.5771, Acc: 0.7160\n",
            "Epoch 32/100\n"
          ],
          "name": "stdout"
        },
        {
          "output_type": "stream",
          "text": [
            "100%|██████████| 100/100 [00:12<00:00,  8.01it/s]\n",
            "  4%|▍         | 2/50 [00:00<00:04, 10.40it/s]"
          ],
          "name": "stderr"
        },
        {
          "output_type": "stream",
          "text": [
            "train Loss: 0.5717, Acc: 0.7330\n"
          ],
          "name": "stdout"
        },
        {
          "output_type": "stream",
          "text": [
            "100%|██████████| 50/50 [00:05<00:00,  9.84it/s]\n",
            "  1%|          | 1/100 [00:00<00:12,  7.96it/s]"
          ],
          "name": "stderr"
        },
        {
          "output_type": "stream",
          "text": [
            "val Loss: 0.5787, Acc: 0.7170\n",
            "Epoch 33/100\n"
          ],
          "name": "stdout"
        },
        {
          "output_type": "stream",
          "text": [
            "100%|██████████| 100/100 [00:12<00:00,  7.92it/s]\n",
            "  2%|▏         | 1/50 [00:00<00:05,  8.64it/s]"
          ],
          "name": "stderr"
        },
        {
          "output_type": "stream",
          "text": [
            "train Loss: 0.5672, Acc: 0.7280\n"
          ],
          "name": "stdout"
        },
        {
          "output_type": "stream",
          "text": [
            "100%|██████████| 50/50 [00:05<00:00,  9.32it/s]\n",
            "  1%|          | 1/100 [00:00<00:12,  7.73it/s]"
          ],
          "name": "stderr"
        },
        {
          "output_type": "stream",
          "text": [
            "val Loss: 0.5702, Acc: 0.7190\n",
            "Epoch 34/100\n"
          ],
          "name": "stdout"
        },
        {
          "output_type": "stream",
          "text": [
            "100%|██████████| 100/100 [00:13<00:00,  7.63it/s]\n",
            "  2%|▏         | 1/50 [00:00<00:05,  9.52it/s]"
          ],
          "name": "stderr"
        },
        {
          "output_type": "stream",
          "text": [
            "train Loss: 0.5689, Acc: 0.7265\n"
          ],
          "name": "stdout"
        },
        {
          "output_type": "stream",
          "text": [
            "100%|██████████| 50/50 [00:05<00:00,  9.80it/s]\n",
            "  1%|          | 1/100 [00:00<00:12,  8.03it/s]"
          ],
          "name": "stderr"
        },
        {
          "output_type": "stream",
          "text": [
            "val Loss: 0.5697, Acc: 0.7120\n",
            "Epoch 35/100\n"
          ],
          "name": "stdout"
        },
        {
          "output_type": "stream",
          "text": [
            "100%|██████████| 100/100 [00:12<00:00,  7.91it/s]\n",
            "  2%|▏         | 1/50 [00:00<00:05,  9.43it/s]"
          ],
          "name": "stderr"
        },
        {
          "output_type": "stream",
          "text": [
            "train Loss: 0.5632, Acc: 0.7355\n"
          ],
          "name": "stdout"
        },
        {
          "output_type": "stream",
          "text": [
            "100%|██████████| 50/50 [00:05<00:00,  9.77it/s]\n",
            "  1%|          | 1/100 [00:00<00:11,  8.42it/s]"
          ],
          "name": "stderr"
        },
        {
          "output_type": "stream",
          "text": [
            "val Loss: 0.5639, Acc: 0.7290\n",
            "Epoch 36/100\n"
          ],
          "name": "stdout"
        },
        {
          "output_type": "stream",
          "text": [
            "100%|██████████| 100/100 [00:12<00:00,  7.91it/s]\n",
            "  2%|▏         | 1/50 [00:00<00:05,  8.65it/s]"
          ],
          "name": "stderr"
        },
        {
          "output_type": "stream",
          "text": [
            "train Loss: 0.5555, Acc: 0.7430\n"
          ],
          "name": "stdout"
        },
        {
          "output_type": "stream",
          "text": [
            "100%|██████████| 50/50 [00:05<00:00,  9.72it/s]\n",
            "  1%|          | 1/100 [00:00<00:11,  8.49it/s]"
          ],
          "name": "stderr"
        },
        {
          "output_type": "stream",
          "text": [
            "val Loss: 0.5695, Acc: 0.7280\n",
            "Epoch 37/100\n"
          ],
          "name": "stdout"
        },
        {
          "output_type": "stream",
          "text": [
            "100%|██████████| 100/100 [00:12<00:00,  8.01it/s]\n",
            "  4%|▍         | 2/50 [00:00<00:04, 10.29it/s]"
          ],
          "name": "stderr"
        },
        {
          "output_type": "stream",
          "text": [
            "train Loss: 0.5642, Acc: 0.7335\n"
          ],
          "name": "stdout"
        },
        {
          "output_type": "stream",
          "text": [
            "100%|██████████| 50/50 [00:05<00:00,  9.81it/s]\n",
            "  1%|          | 1/100 [00:00<00:12,  7.72it/s]"
          ],
          "name": "stderr"
        },
        {
          "output_type": "stream",
          "text": [
            "val Loss: 0.5908, Acc: 0.7020\n",
            "Epoch 38/100\n"
          ],
          "name": "stdout"
        },
        {
          "output_type": "stream",
          "text": [
            "100%|██████████| 100/100 [00:12<00:00,  7.95it/s]\n",
            "  2%|▏         | 1/50 [00:00<00:05,  9.36it/s]"
          ],
          "name": "stderr"
        },
        {
          "output_type": "stream",
          "text": [
            "train Loss: 0.5586, Acc: 0.7385\n"
          ],
          "name": "stdout"
        },
        {
          "output_type": "stream",
          "text": [
            "100%|██████████| 50/50 [00:05<00:00,  9.80it/s]\n",
            "  1%|          | 1/100 [00:00<00:12,  7.81it/s]"
          ],
          "name": "stderr"
        },
        {
          "output_type": "stream",
          "text": [
            "val Loss: 0.5605, Acc: 0.7430\n",
            "Epoch 39/100\n"
          ],
          "name": "stdout"
        },
        {
          "output_type": "stream",
          "text": [
            "100%|██████████| 100/100 [00:12<00:00,  7.96it/s]\n",
            "  2%|▏         | 1/50 [00:00<00:05,  9.24it/s]"
          ],
          "name": "stderr"
        },
        {
          "output_type": "stream",
          "text": [
            "train Loss: 0.5593, Acc: 0.7400\n"
          ],
          "name": "stdout"
        },
        {
          "output_type": "stream",
          "text": [
            "100%|██████████| 50/50 [00:05<00:00,  9.41it/s]\n",
            "  1%|          | 1/100 [00:00<00:11,  8.59it/s]"
          ],
          "name": "stderr"
        },
        {
          "output_type": "stream",
          "text": [
            "val Loss: 0.5803, Acc: 0.7060\n",
            "Epoch 40/100\n"
          ],
          "name": "stdout"
        },
        {
          "output_type": "stream",
          "text": [
            "100%|██████████| 100/100 [00:12<00:00,  7.91it/s]\n",
            "  2%|▏         | 1/50 [00:00<00:05,  9.05it/s]"
          ],
          "name": "stderr"
        },
        {
          "output_type": "stream",
          "text": [
            "train Loss: 0.5599, Acc: 0.7340\n"
          ],
          "name": "stdout"
        },
        {
          "output_type": "stream",
          "text": [
            "100%|██████████| 50/50 [00:05<00:00,  9.63it/s]\n",
            "  1%|          | 1/100 [00:00<00:12,  7.85it/s]"
          ],
          "name": "stderr"
        },
        {
          "output_type": "stream",
          "text": [
            "val Loss: 0.5699, Acc: 0.7260\n",
            "Epoch 41/100\n"
          ],
          "name": "stdout"
        },
        {
          "output_type": "stream",
          "text": [
            "100%|██████████| 100/100 [00:12<00:00,  7.98it/s]\n",
            "  2%|▏         | 1/50 [00:00<00:05,  9.26it/s]"
          ],
          "name": "stderr"
        },
        {
          "output_type": "stream",
          "text": [
            "train Loss: 0.5571, Acc: 0.7375\n"
          ],
          "name": "stdout"
        },
        {
          "output_type": "stream",
          "text": [
            "100%|██████████| 50/50 [00:05<00:00,  9.62it/s]\n",
            "  1%|          | 1/100 [00:00<00:13,  7.24it/s]"
          ],
          "name": "stderr"
        },
        {
          "output_type": "stream",
          "text": [
            "val Loss: 0.5675, Acc: 0.7300\n",
            "Epoch 42/100\n"
          ],
          "name": "stdout"
        },
        {
          "output_type": "stream",
          "text": [
            "100%|██████████| 100/100 [00:12<00:00,  7.97it/s]\n",
            "  2%|▏         | 1/50 [00:00<00:04,  9.98it/s]"
          ],
          "name": "stderr"
        },
        {
          "output_type": "stream",
          "text": [
            "train Loss: 0.5483, Acc: 0.7545\n"
          ],
          "name": "stdout"
        },
        {
          "output_type": "stream",
          "text": [
            "100%|██████████| 50/50 [00:05<00:00,  9.87it/s]\n",
            "  1%|          | 1/100 [00:00<00:12,  7.81it/s]"
          ],
          "name": "stderr"
        },
        {
          "output_type": "stream",
          "text": [
            "val Loss: 0.5585, Acc: 0.7300\n",
            "Epoch 43/100\n"
          ],
          "name": "stdout"
        },
        {
          "output_type": "stream",
          "text": [
            "100%|██████████| 100/100 [00:12<00:00,  7.72it/s]\n",
            "  2%|▏         | 1/50 [00:00<00:05,  9.14it/s]"
          ],
          "name": "stderr"
        },
        {
          "output_type": "stream",
          "text": [
            "train Loss: 0.5559, Acc: 0.7410\n"
          ],
          "name": "stdout"
        },
        {
          "output_type": "stream",
          "text": [
            "100%|██████████| 50/50 [00:05<00:00,  9.86it/s]\n",
            "  1%|          | 1/100 [00:00<00:12,  7.67it/s]"
          ],
          "name": "stderr"
        },
        {
          "output_type": "stream",
          "text": [
            "val Loss: 0.5630, Acc: 0.7290\n",
            "Epoch 44/100\n"
          ],
          "name": "stdout"
        },
        {
          "output_type": "stream",
          "text": [
            "100%|██████████| 100/100 [00:12<00:00,  7.89it/s]\n",
            "  2%|▏         | 1/50 [00:00<00:04,  9.85it/s]"
          ],
          "name": "stderr"
        },
        {
          "output_type": "stream",
          "text": [
            "train Loss: 0.5531, Acc: 0.7445\n"
          ],
          "name": "stdout"
        },
        {
          "output_type": "stream",
          "text": [
            "100%|██████████| 50/50 [00:05<00:00,  9.81it/s]\n",
            "  1%|          | 1/100 [00:00<00:11,  8.39it/s]"
          ],
          "name": "stderr"
        },
        {
          "output_type": "stream",
          "text": [
            "val Loss: 0.5536, Acc: 0.7340\n",
            "Epoch 45/100\n"
          ],
          "name": "stdout"
        },
        {
          "output_type": "stream",
          "text": [
            "100%|██████████| 100/100 [00:12<00:00,  7.94it/s]\n",
            "  2%|▏         | 1/50 [00:00<00:05,  9.11it/s]"
          ],
          "name": "stderr"
        },
        {
          "output_type": "stream",
          "text": [
            "train Loss: 0.5568, Acc: 0.7390\n"
          ],
          "name": "stdout"
        },
        {
          "output_type": "stream",
          "text": [
            "100%|██████████| 50/50 [00:05<00:00,  9.86it/s]\n",
            "  1%|          | 1/100 [00:00<00:14,  6.77it/s]"
          ],
          "name": "stderr"
        },
        {
          "output_type": "stream",
          "text": [
            "val Loss: 0.6348, Acc: 0.6510\n",
            "Epoch 46/100\n"
          ],
          "name": "stdout"
        },
        {
          "output_type": "stream",
          "text": [
            "100%|██████████| 100/100 [00:12<00:00,  7.97it/s]\n",
            "  2%|▏         | 1/50 [00:00<00:05,  9.60it/s]"
          ],
          "name": "stderr"
        },
        {
          "output_type": "stream",
          "text": [
            "train Loss: 0.5394, Acc: 0.7600\n"
          ],
          "name": "stdout"
        },
        {
          "output_type": "stream",
          "text": [
            "100%|██████████| 50/50 [00:05<00:00,  9.94it/s]\n",
            "  1%|          | 1/100 [00:00<00:13,  7.39it/s]"
          ],
          "name": "stderr"
        },
        {
          "output_type": "stream",
          "text": [
            "val Loss: 0.5935, Acc: 0.6990\n",
            "Epoch 47/100\n"
          ],
          "name": "stdout"
        },
        {
          "output_type": "stream",
          "text": [
            "100%|██████████| 100/100 [00:12<00:00,  7.94it/s]\n",
            "  2%|▏         | 1/50 [00:00<00:05,  9.25it/s]"
          ],
          "name": "stderr"
        },
        {
          "output_type": "stream",
          "text": [
            "train Loss: 0.5466, Acc: 0.7475\n"
          ],
          "name": "stdout"
        },
        {
          "output_type": "stream",
          "text": [
            "100%|██████████| 50/50 [00:05<00:00,  9.73it/s]\n",
            "  1%|          | 1/100 [00:00<00:12,  8.11it/s]"
          ],
          "name": "stderr"
        },
        {
          "output_type": "stream",
          "text": [
            "val Loss: 0.5557, Acc: 0.7350\n",
            "Epoch 48/100\n"
          ],
          "name": "stdout"
        },
        {
          "output_type": "stream",
          "text": [
            "100%|██████████| 100/100 [00:12<00:00,  7.94it/s]\n",
            "  2%|▏         | 1/50 [00:00<00:05,  9.73it/s]"
          ],
          "name": "stderr"
        },
        {
          "output_type": "stream",
          "text": [
            "train Loss: 0.5389, Acc: 0.7660\n"
          ],
          "name": "stdout"
        },
        {
          "output_type": "stream",
          "text": [
            "100%|██████████| 50/50 [00:05<00:00,  9.48it/s]\n",
            "  1%|          | 1/100 [00:00<00:13,  7.26it/s]"
          ],
          "name": "stderr"
        },
        {
          "output_type": "stream",
          "text": [
            "val Loss: 0.5761, Acc: 0.7170\n",
            "Epoch 49/100\n"
          ],
          "name": "stdout"
        },
        {
          "output_type": "stream",
          "text": [
            "100%|██████████| 100/100 [00:12<00:00,  7.92it/s]\n",
            "  2%|▏         | 1/50 [00:00<00:05,  9.38it/s]"
          ],
          "name": "stderr"
        },
        {
          "output_type": "stream",
          "text": [
            "train Loss: 0.5518, Acc: 0.7425\n"
          ],
          "name": "stdout"
        },
        {
          "output_type": "stream",
          "text": [
            "100%|██████████| 50/50 [00:05<00:00,  9.83it/s]\n",
            "  1%|          | 1/100 [00:00<00:12,  8.09it/s]"
          ],
          "name": "stderr"
        },
        {
          "output_type": "stream",
          "text": [
            "val Loss: 0.5571, Acc: 0.7360\n",
            "Epoch 50/100\n"
          ],
          "name": "stdout"
        },
        {
          "output_type": "stream",
          "text": [
            "100%|██████████| 100/100 [00:12<00:00,  7.97it/s]\n",
            "  2%|▏         | 1/50 [00:00<00:05,  8.31it/s]"
          ],
          "name": "stderr"
        },
        {
          "output_type": "stream",
          "text": [
            "train Loss: 0.5435, Acc: 0.7560\n"
          ],
          "name": "stdout"
        },
        {
          "output_type": "stream",
          "text": [
            "100%|██████████| 50/50 [00:05<00:00,  9.69it/s]\n",
            "  1%|          | 1/100 [00:00<00:10,  9.02it/s]"
          ],
          "name": "stderr"
        },
        {
          "output_type": "stream",
          "text": [
            "val Loss: 0.5657, Acc: 0.7290\n",
            "Epoch 51/100\n"
          ],
          "name": "stdout"
        },
        {
          "output_type": "stream",
          "text": [
            "100%|██████████| 100/100 [00:12<00:00,  7.71it/s]\n",
            "  2%|▏         | 1/50 [00:00<00:05,  8.96it/s]"
          ],
          "name": "stderr"
        },
        {
          "output_type": "stream",
          "text": [
            "train Loss: 0.5413, Acc: 0.7625\n"
          ],
          "name": "stdout"
        },
        {
          "output_type": "stream",
          "text": [
            "100%|██████████| 50/50 [00:05<00:00,  9.25it/s]\n",
            "  1%|          | 1/100 [00:00<00:11,  8.89it/s]"
          ],
          "name": "stderr"
        },
        {
          "output_type": "stream",
          "text": [
            "val Loss: 0.5559, Acc: 0.7370\n",
            "Epoch 52/100\n"
          ],
          "name": "stdout"
        },
        {
          "output_type": "stream",
          "text": [
            "100%|██████████| 100/100 [00:12<00:00,  8.03it/s]\n",
            "  2%|▏         | 1/50 [00:00<00:04,  9.89it/s]"
          ],
          "name": "stderr"
        },
        {
          "output_type": "stream",
          "text": [
            "train Loss: 0.5446, Acc: 0.7590\n"
          ],
          "name": "stdout"
        },
        {
          "output_type": "stream",
          "text": [
            "100%|██████████| 50/50 [00:05<00:00,  9.71it/s]\n",
            "  1%|          | 1/100 [00:00<00:13,  7.24it/s]"
          ],
          "name": "stderr"
        },
        {
          "output_type": "stream",
          "text": [
            "val Loss: 0.5538, Acc: 0.7410\n",
            "Epoch 53/100\n"
          ],
          "name": "stdout"
        },
        {
          "output_type": "stream",
          "text": [
            "100%|██████████| 100/100 [00:12<00:00,  7.85it/s]\n",
            "  2%|▏         | 1/50 [00:00<00:04,  9.90it/s]"
          ],
          "name": "stderr"
        },
        {
          "output_type": "stream",
          "text": [
            "train Loss: 0.5446, Acc: 0.7510\n"
          ],
          "name": "stdout"
        },
        {
          "output_type": "stream",
          "text": [
            "100%|██████████| 50/50 [00:05<00:00,  9.70it/s]\n",
            "  1%|          | 1/100 [00:00<00:11,  8.44it/s]"
          ],
          "name": "stderr"
        },
        {
          "output_type": "stream",
          "text": [
            "val Loss: 0.5545, Acc: 0.7440\n",
            "Epoch 54/100\n"
          ],
          "name": "stdout"
        },
        {
          "output_type": "stream",
          "text": [
            "100%|██████████| 100/100 [00:12<00:00,  7.99it/s]\n",
            "  2%|▏         | 1/50 [00:00<00:04,  9.94it/s]"
          ],
          "name": "stderr"
        },
        {
          "output_type": "stream",
          "text": [
            "train Loss: 0.5427, Acc: 0.7485\n"
          ],
          "name": "stdout"
        },
        {
          "output_type": "stream",
          "text": [
            "100%|██████████| 50/50 [00:05<00:00,  9.65it/s]\n",
            "  1%|          | 1/100 [00:00<00:11,  8.31it/s]"
          ],
          "name": "stderr"
        },
        {
          "output_type": "stream",
          "text": [
            "val Loss: 0.5515, Acc: 0.7410\n",
            "Epoch 55/100\n"
          ],
          "name": "stdout"
        },
        {
          "output_type": "stream",
          "text": [
            "100%|██████████| 100/100 [00:12<00:00,  7.93it/s]\n",
            "  4%|▍         | 2/50 [00:00<00:04, 10.24it/s]"
          ],
          "name": "stderr"
        },
        {
          "output_type": "stream",
          "text": [
            "train Loss: 0.5400, Acc: 0.7595\n"
          ],
          "name": "stdout"
        },
        {
          "output_type": "stream",
          "text": [
            "100%|██████████| 50/50 [00:05<00:00,  9.71it/s]\n",
            "  1%|          | 1/100 [00:00<00:12,  8.08it/s]"
          ],
          "name": "stderr"
        },
        {
          "output_type": "stream",
          "text": [
            "val Loss: 0.5449, Acc: 0.7590\n",
            "Epoch 56/100\n"
          ],
          "name": "stdout"
        },
        {
          "output_type": "stream",
          "text": [
            "100%|██████████| 100/100 [00:12<00:00,  8.01it/s]\n",
            "  0%|          | 0/50 [00:00<?, ?it/s]"
          ],
          "name": "stderr"
        },
        {
          "output_type": "stream",
          "text": [
            "train Loss: 0.5317, Acc: 0.7655\n"
          ],
          "name": "stdout"
        },
        {
          "output_type": "stream",
          "text": [
            "100%|██████████| 50/50 [00:05<00:00,  9.73it/s]\n",
            "  1%|          | 1/100 [00:00<00:12,  8.01it/s]"
          ],
          "name": "stderr"
        },
        {
          "output_type": "stream",
          "text": [
            "val Loss: 0.5552, Acc: 0.7440\n",
            "Epoch 57/100\n"
          ],
          "name": "stdout"
        },
        {
          "output_type": "stream",
          "text": [
            "100%|██████████| 100/100 [00:12<00:00,  7.90it/s]\n",
            "  2%|▏         | 1/50 [00:00<00:05,  8.23it/s]"
          ],
          "name": "stderr"
        },
        {
          "output_type": "stream",
          "text": [
            "train Loss: 0.5352, Acc: 0.7650\n"
          ],
          "name": "stdout"
        },
        {
          "output_type": "stream",
          "text": [
            "100%|██████████| 50/50 [00:05<00:00,  9.48it/s]\n",
            "  1%|          | 1/100 [00:00<00:12,  8.03it/s]"
          ],
          "name": "stderr"
        },
        {
          "output_type": "stream",
          "text": [
            "val Loss: 0.5637, Acc: 0.7370\n",
            "Epoch 58/100\n"
          ],
          "name": "stdout"
        },
        {
          "output_type": "stream",
          "text": [
            "100%|██████████| 100/100 [00:12<00:00,  7.86it/s]\n",
            "  2%|▏         | 1/50 [00:00<00:04,  9.87it/s]"
          ],
          "name": "stderr"
        },
        {
          "output_type": "stream",
          "text": [
            "train Loss: 0.5383, Acc: 0.7610\n"
          ],
          "name": "stdout"
        },
        {
          "output_type": "stream",
          "text": [
            "100%|██████████| 50/50 [00:05<00:00,  9.68it/s]\n",
            "  1%|          | 1/100 [00:00<00:12,  7.90it/s]"
          ],
          "name": "stderr"
        },
        {
          "output_type": "stream",
          "text": [
            "val Loss: 0.5559, Acc: 0.7410\n",
            "Epoch 59/100\n"
          ],
          "name": "stdout"
        },
        {
          "output_type": "stream",
          "text": [
            "100%|██████████| 100/100 [00:12<00:00,  7.93it/s]\n",
            "  2%|▏         | 1/50 [00:00<00:05,  9.39it/s]"
          ],
          "name": "stderr"
        },
        {
          "output_type": "stream",
          "text": [
            "train Loss: 0.5329, Acc: 0.7620\n"
          ],
          "name": "stdout"
        },
        {
          "output_type": "stream",
          "text": [
            "100%|██████████| 50/50 [00:05<00:00,  9.82it/s]\n",
            "  1%|          | 1/100 [00:00<00:12,  7.88it/s]"
          ],
          "name": "stderr"
        },
        {
          "output_type": "stream",
          "text": [
            "val Loss: 0.6184, Acc: 0.6730\n",
            "Epoch 60/100\n"
          ],
          "name": "stdout"
        },
        {
          "output_type": "stream",
          "text": [
            "100%|██████████| 100/100 [00:12<00:00,  7.87it/s]\n",
            "  2%|▏         | 1/50 [00:00<00:05,  8.82it/s]"
          ],
          "name": "stderr"
        },
        {
          "output_type": "stream",
          "text": [
            "train Loss: 0.5274, Acc: 0.7745\n"
          ],
          "name": "stdout"
        },
        {
          "output_type": "stream",
          "text": [
            "100%|██████████| 50/50 [00:05<00:00,  9.52it/s]\n",
            "  1%|          | 1/100 [00:00<00:11,  8.59it/s]"
          ],
          "name": "stderr"
        },
        {
          "output_type": "stream",
          "text": [
            "val Loss: 0.5538, Acc: 0.7370\n",
            "Epoch 61/100\n"
          ],
          "name": "stdout"
        },
        {
          "output_type": "stream",
          "text": [
            "100%|██████████| 100/100 [00:12<00:00,  8.01it/s]\n",
            "  0%|          | 0/50 [00:00<?, ?it/s]"
          ],
          "name": "stderr"
        },
        {
          "output_type": "stream",
          "text": [
            "train Loss: 0.5352, Acc: 0.7700\n"
          ],
          "name": "stdout"
        },
        {
          "output_type": "stream",
          "text": [
            "100%|██████████| 50/50 [00:05<00:00,  9.72it/s]\n",
            "  1%|          | 1/100 [00:00<00:13,  7.48it/s]"
          ],
          "name": "stderr"
        },
        {
          "output_type": "stream",
          "text": [
            "val Loss: 0.5491, Acc: 0.7500\n",
            "Epoch 62/100\n"
          ],
          "name": "stdout"
        },
        {
          "output_type": "stream",
          "text": [
            "100%|██████████| 100/100 [00:12<00:00,  7.84it/s]\n",
            "  2%|▏         | 1/50 [00:00<00:05,  9.59it/s]"
          ],
          "name": "stderr"
        },
        {
          "output_type": "stream",
          "text": [
            "train Loss: 0.5323, Acc: 0.7695\n"
          ],
          "name": "stdout"
        },
        {
          "output_type": "stream",
          "text": [
            "100%|██████████| 50/50 [00:05<00:00,  9.73it/s]\n",
            "  1%|          | 1/100 [00:00<00:13,  7.53it/s]"
          ],
          "name": "stderr"
        },
        {
          "output_type": "stream",
          "text": [
            "val Loss: 0.5568, Acc: 0.7410\n",
            "Epoch 63/100\n"
          ],
          "name": "stdout"
        },
        {
          "output_type": "stream",
          "text": [
            "100%|██████████| 100/100 [00:12<00:00,  7.96it/s]\n",
            "  4%|▍         | 2/50 [00:00<00:04, 10.26it/s]"
          ],
          "name": "stderr"
        },
        {
          "output_type": "stream",
          "text": [
            "train Loss: 0.5266, Acc: 0.7795\n"
          ],
          "name": "stdout"
        },
        {
          "output_type": "stream",
          "text": [
            "100%|██████████| 50/50 [00:05<00:00,  9.84it/s]\n",
            "  1%|          | 1/100 [00:00<00:12,  8.18it/s]"
          ],
          "name": "stderr"
        },
        {
          "output_type": "stream",
          "text": [
            "val Loss: 0.6000, Acc: 0.6920\n",
            "Epoch 64/100\n"
          ],
          "name": "stdout"
        },
        {
          "output_type": "stream",
          "text": [
            "100%|██████████| 100/100 [00:12<00:00,  8.01it/s]\n",
            "  2%|▏         | 1/50 [00:00<00:05,  9.43it/s]"
          ],
          "name": "stderr"
        },
        {
          "output_type": "stream",
          "text": [
            "train Loss: 0.5220, Acc: 0.7880\n"
          ],
          "name": "stdout"
        },
        {
          "output_type": "stream",
          "text": [
            "100%|██████████| 50/50 [00:05<00:00,  9.80it/s]\n",
            "  1%|          | 1/100 [00:00<00:13,  7.25it/s]"
          ],
          "name": "stderr"
        },
        {
          "output_type": "stream",
          "text": [
            "val Loss: 0.5651, Acc: 0.7340\n",
            "Epoch 65/100\n"
          ],
          "name": "stdout"
        },
        {
          "output_type": "stream",
          "text": [
            "100%|██████████| 100/100 [00:12<00:00,  7.98it/s]\n",
            "  2%|▏         | 1/50 [00:00<00:05,  9.03it/s]"
          ],
          "name": "stderr"
        },
        {
          "output_type": "stream",
          "text": [
            "train Loss: 0.5219, Acc: 0.7830\n"
          ],
          "name": "stdout"
        },
        {
          "output_type": "stream",
          "text": [
            "100%|██████████| 50/50 [00:05<00:00,  9.84it/s]\n",
            "  1%|          | 1/100 [00:00<00:11,  8.28it/s]"
          ],
          "name": "stderr"
        },
        {
          "output_type": "stream",
          "text": [
            "val Loss: 0.5652, Acc: 0.7310\n",
            "Epoch 66/100\n"
          ],
          "name": "stdout"
        },
        {
          "output_type": "stream",
          "text": [
            "100%|██████████| 100/100 [00:12<00:00,  7.97it/s]\n",
            "  2%|▏         | 1/50 [00:00<00:05,  9.33it/s]"
          ],
          "name": "stderr"
        },
        {
          "output_type": "stream",
          "text": [
            "train Loss: 0.5231, Acc: 0.7840\n"
          ],
          "name": "stdout"
        },
        {
          "output_type": "stream",
          "text": [
            "100%|██████████| 50/50 [00:05<00:00,  9.72it/s]\n",
            "  1%|          | 1/100 [00:00<00:13,  7.57it/s]"
          ],
          "name": "stderr"
        },
        {
          "output_type": "stream",
          "text": [
            "val Loss: 0.5481, Acc: 0.7410\n",
            "Epoch 67/100\n"
          ],
          "name": "stdout"
        },
        {
          "output_type": "stream",
          "text": [
            "100%|██████████| 100/100 [00:12<00:00,  7.95it/s]\n",
            "  2%|▏         | 1/50 [00:00<00:05,  8.57it/s]"
          ],
          "name": "stderr"
        },
        {
          "output_type": "stream",
          "text": [
            "train Loss: 0.5263, Acc: 0.7785\n"
          ],
          "name": "stdout"
        },
        {
          "output_type": "stream",
          "text": [
            "100%|██████████| 50/50 [00:05<00:00,  9.83it/s]\n",
            "  1%|          | 1/100 [00:00<00:13,  7.51it/s]"
          ],
          "name": "stderr"
        },
        {
          "output_type": "stream",
          "text": [
            "val Loss: 0.5468, Acc: 0.7530\n",
            "Epoch 68/100\n"
          ],
          "name": "stdout"
        },
        {
          "output_type": "stream",
          "text": [
            "100%|██████████| 100/100 [00:12<00:00,  8.05it/s]\n",
            "  2%|▏         | 1/50 [00:00<00:04,  9.87it/s]"
          ],
          "name": "stderr"
        },
        {
          "output_type": "stream",
          "text": [
            "train Loss: 0.5267, Acc: 0.7720\n"
          ],
          "name": "stdout"
        },
        {
          "output_type": "stream",
          "text": [
            "100%|██████████| 50/50 [00:05<00:00,  9.34it/s]\n",
            "  1%|          | 1/100 [00:00<00:12,  8.11it/s]"
          ],
          "name": "stderr"
        },
        {
          "output_type": "stream",
          "text": [
            "val Loss: 0.5513, Acc: 0.7370\n",
            "Epoch 69/100\n"
          ],
          "name": "stdout"
        },
        {
          "output_type": "stream",
          "text": [
            "100%|██████████| 100/100 [00:12<00:00,  7.80it/s]\n",
            "  2%|▏         | 1/50 [00:00<00:05,  9.55it/s]"
          ],
          "name": "stderr"
        },
        {
          "output_type": "stream",
          "text": [
            "train Loss: 0.5260, Acc: 0.7795\n"
          ],
          "name": "stdout"
        },
        {
          "output_type": "stream",
          "text": [
            "100%|██████████| 50/50 [00:05<00:00,  9.87it/s]\n",
            "  1%|          | 1/100 [00:00<00:12,  7.64it/s]"
          ],
          "name": "stderr"
        },
        {
          "output_type": "stream",
          "text": [
            "val Loss: 0.5665, Acc: 0.7330\n",
            "Epoch 70/100\n"
          ],
          "name": "stdout"
        },
        {
          "output_type": "stream",
          "text": [
            "100%|██████████| 100/100 [00:12<00:00,  7.96it/s]\n",
            "  4%|▍         | 2/50 [00:00<00:04, 10.41it/s]"
          ],
          "name": "stderr"
        },
        {
          "output_type": "stream",
          "text": [
            "train Loss: 0.5200, Acc: 0.7840\n"
          ],
          "name": "stdout"
        },
        {
          "output_type": "stream",
          "text": [
            "100%|██████████| 50/50 [00:05<00:00,  9.82it/s]\n",
            "  1%|          | 1/100 [00:00<00:12,  7.80it/s]"
          ],
          "name": "stderr"
        },
        {
          "output_type": "stream",
          "text": [
            "val Loss: 0.5946, Acc: 0.7000\n",
            "Epoch 71/100\n"
          ],
          "name": "stdout"
        },
        {
          "output_type": "stream",
          "text": [
            "100%|██████████| 100/100 [00:12<00:00,  7.87it/s]\n",
            "  2%|▏         | 1/50 [00:00<00:05,  9.31it/s]"
          ],
          "name": "stderr"
        },
        {
          "output_type": "stream",
          "text": [
            "train Loss: 0.5264, Acc: 0.7810\n"
          ],
          "name": "stdout"
        },
        {
          "output_type": "stream",
          "text": [
            "100%|██████████| 50/50 [00:05<00:00,  9.75it/s]\n",
            "  1%|          | 1/100 [00:00<00:14,  7.01it/s]"
          ],
          "name": "stderr"
        },
        {
          "output_type": "stream",
          "text": [
            "val Loss: 0.5441, Acc: 0.7490\n",
            "Epoch 72/100\n"
          ],
          "name": "stdout"
        },
        {
          "output_type": "stream",
          "text": [
            "100%|██████████| 100/100 [00:12<00:00,  8.00it/s]\n",
            "  2%|▏         | 1/50 [00:00<00:05,  9.42it/s]"
          ],
          "name": "stderr"
        },
        {
          "output_type": "stream",
          "text": [
            "train Loss: 0.5175, Acc: 0.7880\n"
          ],
          "name": "stdout"
        },
        {
          "output_type": "stream",
          "text": [
            "100%|██████████| 50/50 [00:05<00:00,  9.93it/s]\n",
            "  1%|          | 1/100 [00:00<00:11,  8.47it/s]"
          ],
          "name": "stderr"
        },
        {
          "output_type": "stream",
          "text": [
            "val Loss: 0.5760, Acc: 0.7210\n",
            "Epoch 73/100\n"
          ],
          "name": "stdout"
        },
        {
          "output_type": "stream",
          "text": [
            "100%|██████████| 100/100 [00:12<00:00,  8.03it/s]\n",
            "  2%|▏         | 1/50 [00:00<00:04,  9.91it/s]"
          ],
          "name": "stderr"
        },
        {
          "output_type": "stream",
          "text": [
            "train Loss: 0.5211, Acc: 0.7820\n"
          ],
          "name": "stdout"
        },
        {
          "output_type": "stream",
          "text": [
            "100%|██████████| 50/50 [00:05<00:00,  9.78it/s]\n",
            "  1%|          | 1/100 [00:00<00:12,  8.16it/s]"
          ],
          "name": "stderr"
        },
        {
          "output_type": "stream",
          "text": [
            "val Loss: 0.5676, Acc: 0.7270\n",
            "Epoch 74/100\n"
          ],
          "name": "stdout"
        },
        {
          "output_type": "stream",
          "text": [
            "100%|██████████| 100/100 [00:12<00:00,  7.98it/s]\n",
            "  2%|▏         | 1/50 [00:00<00:04,  9.97it/s]"
          ],
          "name": "stderr"
        },
        {
          "output_type": "stream",
          "text": [
            "train Loss: 0.5221, Acc: 0.7830\n"
          ],
          "name": "stdout"
        },
        {
          "output_type": "stream",
          "text": [
            "100%|██████████| 50/50 [00:05<00:00,  9.69it/s]\n",
            "  1%|          | 1/100 [00:00<00:12,  8.05it/s]"
          ],
          "name": "stderr"
        },
        {
          "output_type": "stream",
          "text": [
            "val Loss: 0.5352, Acc: 0.7630\n",
            "Epoch 75/100\n"
          ],
          "name": "stdout"
        },
        {
          "output_type": "stream",
          "text": [
            "100%|██████████| 100/100 [00:12<00:00,  7.94it/s]\n",
            "  4%|▍         | 2/50 [00:00<00:04, 10.23it/s]"
          ],
          "name": "stderr"
        },
        {
          "output_type": "stream",
          "text": [
            "train Loss: 0.5231, Acc: 0.7780\n"
          ],
          "name": "stdout"
        },
        {
          "output_type": "stream",
          "text": [
            "100%|██████████| 50/50 [00:05<00:00,  9.68it/s]\n",
            "  1%|          | 1/100 [00:00<00:12,  8.18it/s]"
          ],
          "name": "stderr"
        },
        {
          "output_type": "stream",
          "text": [
            "val Loss: 0.5398, Acc: 0.7570\n",
            "Epoch 76/100\n"
          ],
          "name": "stdout"
        },
        {
          "output_type": "stream",
          "text": [
            "100%|██████████| 100/100 [00:12<00:00,  7.97it/s]\n",
            "  4%|▍         | 2/50 [00:00<00:04, 10.23it/s]"
          ],
          "name": "stderr"
        },
        {
          "output_type": "stream",
          "text": [
            "train Loss: 0.5144, Acc: 0.7840\n"
          ],
          "name": "stdout"
        },
        {
          "output_type": "stream",
          "text": [
            "100%|██████████| 50/50 [00:05<00:00,  9.90it/s]\n",
            "  1%|          | 1/100 [00:00<00:12,  7.92it/s]"
          ],
          "name": "stderr"
        },
        {
          "output_type": "stream",
          "text": [
            "val Loss: 0.5421, Acc: 0.7460\n",
            "Epoch 77/100\n"
          ],
          "name": "stdout"
        },
        {
          "output_type": "stream",
          "text": [
            "100%|██████████| 100/100 [00:12<00:00,  7.93it/s]\n",
            "  2%|▏         | 1/50 [00:00<00:05,  9.60it/s]"
          ],
          "name": "stderr"
        },
        {
          "output_type": "stream",
          "text": [
            "train Loss: 0.5202, Acc: 0.7835\n"
          ],
          "name": "stdout"
        },
        {
          "output_type": "stream",
          "text": [
            "100%|██████████| 50/50 [00:05<00:00,  9.41it/s]\n",
            "  1%|          | 1/100 [00:00<00:12,  8.23it/s]"
          ],
          "name": "stderr"
        },
        {
          "output_type": "stream",
          "text": [
            "val Loss: 0.5410, Acc: 0.7550\n",
            "Epoch 78/100\n"
          ],
          "name": "stdout"
        },
        {
          "output_type": "stream",
          "text": [
            "100%|██████████| 100/100 [00:12<00:00,  7.93it/s]\n",
            "  2%|▏         | 1/50 [00:00<00:05,  9.33it/s]"
          ],
          "name": "stderr"
        },
        {
          "output_type": "stream",
          "text": [
            "train Loss: 0.5210, Acc: 0.7765\n"
          ],
          "name": "stdout"
        },
        {
          "output_type": "stream",
          "text": [
            "100%|██████████| 50/50 [00:05<00:00,  9.77it/s]\n",
            "  1%|          | 1/100 [00:00<00:11,  8.56it/s]"
          ],
          "name": "stderr"
        },
        {
          "output_type": "stream",
          "text": [
            "val Loss: 0.5418, Acc: 0.7570\n",
            "Epoch 79/100\n"
          ],
          "name": "stdout"
        },
        {
          "output_type": "stream",
          "text": [
            "100%|██████████| 100/100 [00:12<00:00,  8.02it/s]\n",
            "  0%|          | 0/50 [00:00<?, ?it/s]"
          ],
          "name": "stderr"
        },
        {
          "output_type": "stream",
          "text": [
            "train Loss: 0.5180, Acc: 0.7825\n"
          ],
          "name": "stdout"
        },
        {
          "output_type": "stream",
          "text": [
            "100%|██████████| 50/50 [00:05<00:00,  9.89it/s]\n",
            "  1%|          | 1/100 [00:00<00:12,  8.00it/s]"
          ],
          "name": "stderr"
        },
        {
          "output_type": "stream",
          "text": [
            "val Loss: 0.5452, Acc: 0.7590\n",
            "Epoch 80/100\n"
          ],
          "name": "stdout"
        },
        {
          "output_type": "stream",
          "text": [
            "100%|██████████| 100/100 [00:12<00:00,  7.95it/s]\n",
            "  2%|▏         | 1/50 [00:00<00:05,  8.71it/s]"
          ],
          "name": "stderr"
        },
        {
          "output_type": "stream",
          "text": [
            "train Loss: 0.5122, Acc: 0.7900\n"
          ],
          "name": "stdout"
        },
        {
          "output_type": "stream",
          "text": [
            "100%|██████████| 50/50 [00:05<00:00,  9.70it/s]\n",
            "  1%|          | 1/100 [00:00<00:11,  8.80it/s]"
          ],
          "name": "stderr"
        },
        {
          "output_type": "stream",
          "text": [
            "val Loss: 0.6108, Acc: 0.6820\n",
            "Epoch 81/100\n"
          ],
          "name": "stdout"
        },
        {
          "output_type": "stream",
          "text": [
            "100%|██████████| 100/100 [00:12<00:00,  7.98it/s]\n",
            "  2%|▏         | 1/50 [00:00<00:05,  9.04it/s]"
          ],
          "name": "stderr"
        },
        {
          "output_type": "stream",
          "text": [
            "train Loss: 0.5178, Acc: 0.7870\n"
          ],
          "name": "stdout"
        },
        {
          "output_type": "stream",
          "text": [
            "100%|██████████| 50/50 [00:05<00:00,  9.86it/s]\n",
            "  1%|          | 1/100 [00:00<00:12,  7.98it/s]"
          ],
          "name": "stderr"
        },
        {
          "output_type": "stream",
          "text": [
            "val Loss: 0.5481, Acc: 0.7450\n",
            "Epoch 82/100\n"
          ],
          "name": "stdout"
        },
        {
          "output_type": "stream",
          "text": [
            "100%|██████████| 100/100 [00:12<00:00,  8.06it/s]\n",
            "  2%|▏         | 1/50 [00:00<00:04, 10.00it/s]"
          ],
          "name": "stderr"
        },
        {
          "output_type": "stream",
          "text": [
            "train Loss: 0.5110, Acc: 0.7935\n"
          ],
          "name": "stdout"
        },
        {
          "output_type": "stream",
          "text": [
            "100%|██████████| 50/50 [00:05<00:00,  9.86it/s]\n",
            "  1%|          | 1/100 [00:00<00:12,  8.01it/s]"
          ],
          "name": "stderr"
        },
        {
          "output_type": "stream",
          "text": [
            "val Loss: 0.5902, Acc: 0.7120\n",
            "Epoch 83/100\n"
          ],
          "name": "stdout"
        },
        {
          "output_type": "stream",
          "text": [
            "100%|██████████| 100/100 [00:12<00:00,  8.07it/s]\n",
            "  4%|▍         | 2/50 [00:00<00:04, 10.44it/s]"
          ],
          "name": "stderr"
        },
        {
          "output_type": "stream",
          "text": [
            "train Loss: 0.5151, Acc: 0.7855\n"
          ],
          "name": "stdout"
        },
        {
          "output_type": "stream",
          "text": [
            "100%|██████████| 50/50 [00:05<00:00,  9.84it/s]\n",
            "  1%|          | 1/100 [00:00<00:12,  8.16it/s]"
          ],
          "name": "stderr"
        },
        {
          "output_type": "stream",
          "text": [
            "val Loss: 0.5412, Acc: 0.7610\n",
            "Epoch 84/100\n"
          ],
          "name": "stdout"
        },
        {
          "output_type": "stream",
          "text": [
            "100%|██████████| 100/100 [00:12<00:00,  7.91it/s]\n",
            "  2%|▏         | 1/50 [00:00<00:05,  9.36it/s]"
          ],
          "name": "stderr"
        },
        {
          "output_type": "stream",
          "text": [
            "train Loss: 0.5112, Acc: 0.7910\n"
          ],
          "name": "stdout"
        },
        {
          "output_type": "stream",
          "text": [
            "100%|██████████| 50/50 [00:05<00:00,  9.78it/s]\n",
            "  1%|          | 1/100 [00:00<00:12,  8.23it/s]"
          ],
          "name": "stderr"
        },
        {
          "output_type": "stream",
          "text": [
            "val Loss: 0.5569, Acc: 0.7360\n",
            "Epoch 85/100\n"
          ],
          "name": "stdout"
        },
        {
          "output_type": "stream",
          "text": [
            "100%|██████████| 100/100 [00:12<00:00,  7.95it/s]\n",
            "  2%|▏         | 1/50 [00:00<00:05,  8.30it/s]"
          ],
          "name": "stderr"
        },
        {
          "output_type": "stream",
          "text": [
            "train Loss: 0.5119, Acc: 0.7865\n"
          ],
          "name": "stdout"
        },
        {
          "output_type": "stream",
          "text": [
            "100%|██████████| 50/50 [00:05<00:00,  9.87it/s]\n",
            "  1%|          | 1/100 [00:00<00:12,  7.92it/s]"
          ],
          "name": "stderr"
        },
        {
          "output_type": "stream",
          "text": [
            "val Loss: 0.5419, Acc: 0.7570\n",
            "Epoch 86/100\n"
          ],
          "name": "stdout"
        },
        {
          "output_type": "stream",
          "text": [
            "100%|██████████| 100/100 [00:12<00:00,  7.81it/s]\n",
            "  2%|▏         | 1/50 [00:00<00:05,  9.78it/s]"
          ],
          "name": "stderr"
        },
        {
          "output_type": "stream",
          "text": [
            "train Loss: 0.5094, Acc: 0.7980\n"
          ],
          "name": "stdout"
        },
        {
          "output_type": "stream",
          "text": [
            "100%|██████████| 50/50 [00:05<00:00,  9.25it/s]\n",
            "  1%|          | 1/100 [00:00<00:12,  7.94it/s]"
          ],
          "name": "stderr"
        },
        {
          "output_type": "stream",
          "text": [
            "val Loss: 0.5499, Acc: 0.7530\n",
            "Epoch 87/100\n"
          ],
          "name": "stdout"
        },
        {
          "output_type": "stream",
          "text": [
            "100%|██████████| 100/100 [00:12<00:00,  8.01it/s]\n",
            "  2%|▏         | 1/50 [00:00<00:05,  9.42it/s]"
          ],
          "name": "stderr"
        },
        {
          "output_type": "stream",
          "text": [
            "train Loss: 0.5144, Acc: 0.7870\n"
          ],
          "name": "stdout"
        },
        {
          "output_type": "stream",
          "text": [
            "100%|██████████| 50/50 [00:05<00:00,  9.82it/s]\n",
            "  1%|          | 1/100 [00:00<00:14,  7.06it/s]"
          ],
          "name": "stderr"
        },
        {
          "output_type": "stream",
          "text": [
            "val Loss: 0.5352, Acc: 0.7660\n",
            "Epoch 88/100\n"
          ],
          "name": "stdout"
        },
        {
          "output_type": "stream",
          "text": [
            "100%|██████████| 100/100 [00:12<00:00,  8.00it/s]\n",
            "  2%|▏         | 1/50 [00:00<00:05,  9.32it/s]"
          ],
          "name": "stderr"
        },
        {
          "output_type": "stream",
          "text": [
            "train Loss: 0.5075, Acc: 0.7985\n"
          ],
          "name": "stdout"
        },
        {
          "output_type": "stream",
          "text": [
            "100%|██████████| 50/50 [00:05<00:00,  9.84it/s]\n",
            "  1%|          | 1/100 [00:00<00:12,  7.62it/s]"
          ],
          "name": "stderr"
        },
        {
          "output_type": "stream",
          "text": [
            "val Loss: 0.5689, Acc: 0.7260\n",
            "Epoch 89/100\n"
          ],
          "name": "stdout"
        },
        {
          "output_type": "stream",
          "text": [
            "100%|██████████| 100/100 [00:12<00:00,  8.01it/s]\n",
            "  2%|▏         | 1/50 [00:00<00:05,  9.64it/s]"
          ],
          "name": "stderr"
        },
        {
          "output_type": "stream",
          "text": [
            "train Loss: 0.5085, Acc: 0.7970\n"
          ],
          "name": "stdout"
        },
        {
          "output_type": "stream",
          "text": [
            "100%|██████████| 50/50 [00:05<00:00,  9.66it/s]\n",
            "  1%|          | 1/100 [00:00<00:11,  8.39it/s]"
          ],
          "name": "stderr"
        },
        {
          "output_type": "stream",
          "text": [
            "val Loss: 0.5498, Acc: 0.7490\n",
            "Epoch 90/100\n"
          ],
          "name": "stdout"
        },
        {
          "output_type": "stream",
          "text": [
            "100%|██████████| 100/100 [00:12<00:00,  8.04it/s]\n",
            "  4%|▍         | 2/50 [00:00<00:04, 10.05it/s]"
          ],
          "name": "stderr"
        },
        {
          "output_type": "stream",
          "text": [
            "train Loss: 0.5097, Acc: 0.7950\n"
          ],
          "name": "stdout"
        },
        {
          "output_type": "stream",
          "text": [
            "100%|██████████| 50/50 [00:05<00:00,  9.72it/s]\n",
            "  1%|          | 1/100 [00:00<00:12,  8.16it/s]"
          ],
          "name": "stderr"
        },
        {
          "output_type": "stream",
          "text": [
            "val Loss: 0.5618, Acc: 0.7340\n",
            "Epoch 91/100\n"
          ],
          "name": "stdout"
        },
        {
          "output_type": "stream",
          "text": [
            "100%|██████████| 100/100 [00:12<00:00,  8.09it/s]\n",
            "  2%|▏         | 1/50 [00:00<00:04,  9.82it/s]"
          ],
          "name": "stderr"
        },
        {
          "output_type": "stream",
          "text": [
            "train Loss: 0.5143, Acc: 0.7845\n"
          ],
          "name": "stdout"
        },
        {
          "output_type": "stream",
          "text": [
            "100%|██████████| 50/50 [00:05<00:00,  9.85it/s]\n",
            "  1%|          | 1/100 [00:00<00:12,  8.07it/s]"
          ],
          "name": "stderr"
        },
        {
          "output_type": "stream",
          "text": [
            "val Loss: 0.5428, Acc: 0.7480\n",
            "Epoch 92/100\n"
          ],
          "name": "stdout"
        },
        {
          "output_type": "stream",
          "text": [
            "100%|██████████| 100/100 [00:12<00:00,  7.98it/s]\n",
            "  2%|▏         | 1/50 [00:00<00:04,  9.87it/s]"
          ],
          "name": "stderr"
        },
        {
          "output_type": "stream",
          "text": [
            "train Loss: 0.5096, Acc: 0.7935\n"
          ],
          "name": "stdout"
        },
        {
          "output_type": "stream",
          "text": [
            "100%|██████████| 50/50 [00:05<00:00,  9.88it/s]\n",
            "  1%|          | 1/100 [00:00<00:12,  8.12it/s]"
          ],
          "name": "stderr"
        },
        {
          "output_type": "stream",
          "text": [
            "val Loss: 0.5648, Acc: 0.7320\n",
            "Epoch 93/100\n"
          ],
          "name": "stdout"
        },
        {
          "output_type": "stream",
          "text": [
            "100%|██████████| 100/100 [00:12<00:00,  8.02it/s]\n",
            "  4%|▍         | 2/50 [00:00<00:04, 10.38it/s]"
          ],
          "name": "stderr"
        },
        {
          "output_type": "stream",
          "text": [
            "train Loss: 0.5026, Acc: 0.8055\n"
          ],
          "name": "stdout"
        },
        {
          "output_type": "stream",
          "text": [
            "100%|██████████| 50/50 [00:05<00:00,  9.90it/s]\n",
            "  1%|          | 1/100 [00:00<00:12,  8.04it/s]"
          ],
          "name": "stderr"
        },
        {
          "output_type": "stream",
          "text": [
            "val Loss: 0.5476, Acc: 0.7430\n",
            "Epoch 94/100\n"
          ],
          "name": "stdout"
        },
        {
          "output_type": "stream",
          "text": [
            "100%|██████████| 100/100 [00:12<00:00,  7.96it/s]\n",
            "  0%|          | 0/50 [00:00<?, ?it/s]"
          ],
          "name": "stderr"
        },
        {
          "output_type": "stream",
          "text": [
            "train Loss: 0.5029, Acc: 0.8090\n"
          ],
          "name": "stdout"
        },
        {
          "output_type": "stream",
          "text": [
            "100%|██████████| 50/50 [00:05<00:00,  9.71it/s]\n",
            "  1%|          | 1/100 [00:00<00:13,  7.60it/s]"
          ],
          "name": "stderr"
        },
        {
          "output_type": "stream",
          "text": [
            "val Loss: 0.5387, Acc: 0.7630\n",
            "Epoch 95/100\n"
          ],
          "name": "stdout"
        },
        {
          "output_type": "stream",
          "text": [
            "100%|██████████| 100/100 [00:12<00:00,  7.88it/s]\n",
            "  4%|▍         | 2/50 [00:00<00:04, 10.16it/s]"
          ],
          "name": "stderr"
        },
        {
          "output_type": "stream",
          "text": [
            "train Loss: 0.5073, Acc: 0.7945\n"
          ],
          "name": "stdout"
        },
        {
          "output_type": "stream",
          "text": [
            "100%|██████████| 50/50 [00:05<00:00,  9.81it/s]\n",
            "  1%|          | 1/100 [00:00<00:11,  8.74it/s]"
          ],
          "name": "stderr"
        },
        {
          "output_type": "stream",
          "text": [
            "val Loss: 0.5377, Acc: 0.7530\n",
            "Epoch 96/100\n"
          ],
          "name": "stdout"
        },
        {
          "output_type": "stream",
          "text": [
            "100%|██████████| 100/100 [00:12<00:00,  8.05it/s]\n",
            "  2%|▏         | 1/50 [00:00<00:04,  9.97it/s]"
          ],
          "name": "stderr"
        },
        {
          "output_type": "stream",
          "text": [
            "train Loss: 0.5006, Acc: 0.8025\n"
          ],
          "name": "stdout"
        },
        {
          "output_type": "stream",
          "text": [
            "100%|██████████| 50/50 [00:05<00:00,  9.92it/s]\n",
            "  1%|          | 1/100 [00:00<00:12,  8.07it/s]"
          ],
          "name": "stderr"
        },
        {
          "output_type": "stream",
          "text": [
            "val Loss: 0.5418, Acc: 0.7510\n",
            "Epoch 97/100\n"
          ],
          "name": "stdout"
        },
        {
          "output_type": "stream",
          "text": [
            "100%|██████████| 100/100 [00:12<00:00,  8.04it/s]\n",
            "  4%|▍         | 2/50 [00:00<00:04, 10.45it/s]"
          ],
          "name": "stderr"
        },
        {
          "output_type": "stream",
          "text": [
            "train Loss: 0.5096, Acc: 0.7900\n"
          ],
          "name": "stdout"
        },
        {
          "output_type": "stream",
          "text": [
            "100%|██████████| 50/50 [00:05<00:00,  9.69it/s]\n",
            "  1%|          | 1/100 [00:00<00:12,  7.88it/s]"
          ],
          "name": "stderr"
        },
        {
          "output_type": "stream",
          "text": [
            "val Loss: 0.6047, Acc: 0.6880\n",
            "Epoch 98/100\n"
          ],
          "name": "stdout"
        },
        {
          "output_type": "stream",
          "text": [
            "100%|██████████| 100/100 [00:12<00:00,  7.98it/s]\n",
            "  2%|▏         | 1/50 [00:00<00:05,  9.77it/s]"
          ],
          "name": "stderr"
        },
        {
          "output_type": "stream",
          "text": [
            "train Loss: 0.4990, Acc: 0.7985\n"
          ],
          "name": "stdout"
        },
        {
          "output_type": "stream",
          "text": [
            "100%|██████████| 50/50 [00:05<00:00,  9.71it/s]\n",
            "  1%|          | 1/100 [00:00<00:12,  7.69it/s]"
          ],
          "name": "stderr"
        },
        {
          "output_type": "stream",
          "text": [
            "val Loss: 0.5407, Acc: 0.7550\n",
            "Epoch 99/100\n"
          ],
          "name": "stdout"
        },
        {
          "output_type": "stream",
          "text": [
            "100%|██████████| 100/100 [00:12<00:00,  7.96it/s]\n",
            "  2%|▏         | 1/50 [00:00<00:05,  9.74it/s]"
          ],
          "name": "stderr"
        },
        {
          "output_type": "stream",
          "text": [
            "train Loss: 0.4979, Acc: 0.8110\n"
          ],
          "name": "stdout"
        },
        {
          "output_type": "stream",
          "text": [
            "100%|██████████| 50/50 [00:05<00:00,  9.96it/s]\n",
            "  1%|          | 1/100 [00:00<00:11,  8.69it/s]"
          ],
          "name": "stderr"
        },
        {
          "output_type": "stream",
          "text": [
            "val Loss: 0.5602, Acc: 0.7380\n",
            "Epoch 100/100\n"
          ],
          "name": "stdout"
        },
        {
          "output_type": "stream",
          "text": [
            "100%|██████████| 100/100 [00:12<00:00,  8.01it/s]\n",
            "  2%|▏         | 1/50 [00:00<00:04,  9.87it/s]"
          ],
          "name": "stderr"
        },
        {
          "output_type": "stream",
          "text": [
            "train Loss: 0.5009, Acc: 0.7985\n"
          ],
          "name": "stdout"
        },
        {
          "output_type": "stream",
          "text": [
            "100%|██████████| 50/50 [00:05<00:00,  9.79it/s]"
          ],
          "name": "stderr"
        },
        {
          "output_type": "stream",
          "text": [
            "val Loss: 0.5807, Acc: 0.7220\n"
          ],
          "name": "stdout"
        },
        {
          "output_type": "stream",
          "text": [
            "\n"
          ],
          "name": "stderr"
        }
      ]
    }
  ]
}